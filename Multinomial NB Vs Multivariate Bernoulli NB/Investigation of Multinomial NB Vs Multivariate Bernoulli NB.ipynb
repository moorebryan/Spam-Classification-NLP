{
 "cells": [
  {
   "cell_type": "markdown",
   "metadata": {},
   "source": [
    "If Wordcloud is not already installed on your system please enter these commands in the terminal:\n",
    "1. git clone https://github.com/amueller/word_cloud.git\n",
    "2. cd word_cloud\n",
    "3. pip install ."
   ]
  },
  {
   "cell_type": "markdown",
   "metadata": {},
   "source": [
    "Now import all modules"
   ]
  },
  {
   "cell_type": "code",
   "execution_count": 1,
   "metadata": {},
   "outputs": [
    {
     "name": "stderr",
     "output_type": "stream",
     "text": [
      "[nltk_data] Downloading package wordnet to /Users/bryan/nltk_data...\n",
      "[nltk_data]   Package wordnet is already up-to-date!\n",
      "[nltk_data] Downloading package punkt to /Users/bryan/nltk_data...\n",
      "[nltk_data]   Package punkt is already up-to-date!\n"
     ]
    }
   ],
   "source": [
    "import numpy as np\n",
    "import pandas as pd\n",
    "\n",
    "%matplotlib inline\n",
    "import matplotlib.pyplot as plt\n",
    "plt.style.use('ggplot')\n",
    "import seaborn as sns\n",
    "\n",
    "import nltk\n",
    "nltk.download('wordnet')\n",
    "nltk.download('punkt')\n",
    "\n",
    "from nltk.stem import WordNetLemmatizer, PorterStemmer, LancasterStemmer\n",
    "from wordcloud import WordCloud\n",
    "\n",
    "from sklearn.pipeline import Pipeline\n",
    "\n",
    "from sklearn.model_selection import train_test_split, GridSearchCV, cross_val_score, cross_val_predict\n",
    "from sklearn.metrics import confusion_matrix, precision_score, recall_score, f1_score, roc_curve, precision_recall_curve, classification_report\n",
    "from sklearn.feature_extraction.text import CountVectorizer, TfidfVectorizer, TfidfTransformer\n",
    "from sklearn.naive_bayes import MultinomialNB, BernoulliNB\n",
    "\n",
    "from sklearn.datasets import fetch_20newsgroups\n",
    "\n",
    "# The below suppresses all warnings in the notebook\n",
    "# Only leave this uncommented for display purposes\n",
    "import warnings\n",
    "warnings.filterwarnings(\"ignore\")"
   ]
  },
  {
   "cell_type": "markdown",
   "metadata": {},
   "source": [
    "There are 20 categories in the loaded dataset.<br>\n",
    "We will only load the following 4 categories for this to be a simpler example:\n",
    "- alt.atheism\n",
    "- soc.religion.christian\n",
    "- comp.graphics\n",
    "- sci.med"
   ]
  },
  {
   "cell_type": "markdown",
   "metadata": {},
   "source": [
    "For these cagegories we load in the train and test subsets, shuffling while loading."
   ]
  },
  {
   "cell_type": "code",
   "execution_count": 2,
   "metadata": {},
   "outputs": [],
   "source": [
    "categories = ['alt.atheism', 'soc.religion.christian','comp.graphics', 'sci.med']\n",
    "\n",
    "train_data = fetch_20newsgroups(subset='train', categories=categories, shuffle=True, random_state=42)\n",
    "X_train = train_data.data\n",
    "y_train = train_data.target\n",
    "\n",
    "\n",
    "test_data = fetch_20newsgroups(subset='test', categories=categories, shuffle=True, random_state=42)\n",
    "X_test = test_data.data\n",
    "y_test = test_data.target"
   ]
  },
  {
   "cell_type": "markdown",
   "metadata": {},
   "source": [
    "First take a look at what has been loaded and examine a single document."
   ]
  },
  {
   "cell_type": "code",
   "execution_count": 3,
   "metadata": {},
   "outputs": [
    {
     "name": "stdout",
     "output_type": "stream",
     "text": [
      "Target Names:  ['alt.atheism', 'comp.graphics', 'sci.med', 'soc.religion.christian']\n",
      "\n",
      "Number of Training Examples:  2257\n",
      "Number of Training Labels:  2257\n",
      "Number of Test Examples:  1502\n",
      "Number of Test Labels:  1502\n",
      "\n",
      "Print a Random Document:\n",
      "\n",
      "From: sd345@city.ac.uk (Michael Collier)\n",
      "Subject: Converting images to HP LaserJet III?\n",
      "Nntp-Posting-Host: hampton\n",
      "Organization: The City University\n",
      "Lines: 14\n",
      "\n",
      "Does anyone know of a good way (standard PC application/PD utility) to\n",
      "convert tif/img/tga files into LaserJet III format.  We would also like to\n",
      "do the same, converting to HPGL (HP plotter) files.\n",
      "\n",
      "Please email any response.\n",
      "\n",
      "Is this the correct group?\n",
      "\n",
      "Thanks in advance.  Michael.\n",
      "-- \n",
      "Michael Collier (Programmer)                 The Computer Unit,\n",
      "Email: M.P.Collier@uk.ac.city                The City University,\n",
      "Tel: 071 477-8000 x3769                      London,\n",
      "Fax: 071 477-8565                            EC1V 0HB.\n",
      "\n"
     ]
    }
   ],
   "source": [
    "print(\"Target Names: \", train_data.target_names)\n",
    "\n",
    "print(\"\\nNumber of Training Examples: \", len(X_train))\n",
    "print(\"Number of Training Labels: \", len(y_train))\n",
    "\n",
    "print(\"Number of Test Examples: \",len(X_test))\n",
    "print(\"Number of Test Labels: \", len(y_test))\n",
    "\n",
    "\n",
    "print(\"\\nPrint a Random Document:\\n\")\n",
    "print(X_train[0])"
   ]
  },
  {
   "cell_type": "markdown",
   "metadata": {},
   "source": [
    "Now create a dataframe from the data and count how many of each category we have.<br>\n",
    "The code for classifications is as given below:<br>\n",
    "0 = 'alt.atheism', 1 = 'soc.religion.christian',2 = 'comp.graphics', 3 = 'sci.med'"
   ]
  },
  {
   "cell_type": "code",
   "execution_count": 4,
   "metadata": {},
   "outputs": [
    {
     "name": "stdout",
     "output_type": "stream",
     "text": [
      "3    599\n",
      "2    594\n",
      "1    584\n",
      "0    480\n",
      "Name: 0, dtype: int64\n"
     ]
    }
   ],
   "source": [
    "df_full=pd.DataFrame(train_data.target)\n",
    "\n",
    "# Count up number of times each class occurs\n",
    "label_counts = df_full.iloc[:,-1].value_counts()\n",
    "\n",
    "print(label_counts)"
   ]
  },
  {
   "cell_type": "markdown",
   "metadata": {},
   "source": [
    "We now create a histogram of the number of messages corresponding to each category in our dataset"
   ]
  },
  {
   "cell_type": "code",
   "execution_count": 5,
   "metadata": {},
   "outputs": [
    {
     "data": {
      "image/png": "[encoded data removed]",
      "text/plain": [
       "<Figure size 864x432 with 1 Axes>"
      ]
     },
     "metadata": {
      "needs_background": "light"
     },
     "output_type": "display_data"
    }
   ],
   "source": [
    "plt.figure(figsize = (12,6))\n",
    "sns.barplot(label_counts.index, label_counts.values, alpha = 0.9)\n",
    "\n",
    "plt.xticks(rotation = 'vertical')\n",
    "plt.xlabel('Class Number', fontsize =12)\n",
    "plt.ylabel('Counts', fontsize = 12)\n",
    "plt.show()"
   ]
  },
  {
   "cell_type": "markdown",
   "metadata": {},
   "source": [
    "Now create the train and test pandas dataframes.<br>\n",
    "We want them to be dataframes as the next step involves normalization, which is simpler if they are in dataframe format."
   ]
  },
  {
   "cell_type": "code",
   "execution_count": 6,
   "metadata": {},
   "outputs": [
    {
     "data": {
      "text/html": [
       "<div>\n",
       "<style scoped>\n",
       "    .dataframe tbody tr th:only-of-type {\n",
       "        vertical-align: middle;\n",
       "    }\n",
       "\n",
       "    .dataframe tbody tr th {\n",
       "        vertical-align: top;\n",
       "    }\n",
       "\n",
       "    .dataframe thead th {\n",
       "        text-align: right;\n",
       "    }\n",
       "</style>\n",
       "<table border=\"1\" class=\"dataframe\">\n",
       "  <thead>\n",
       "    <tr style=\"text-align: right;\">\n",
       "      <th></th>\n",
       "      <th>text_raw</th>\n",
       "    </tr>\n",
       "  </thead>\n",
       "  <tbody>\n",
       "    <tr>\n",
       "      <th>0</th>\n",
       "      <td>From: sd345@city.ac.uk (Michael Collier)\\nSubj...</td>\n",
       "    </tr>\n",
       "    <tr>\n",
       "      <th>1</th>\n",
       "      <td>From: ani@ms.uky.edu (Aniruddha B. Deglurkar)\\...</td>\n",
       "    </tr>\n",
       "    <tr>\n",
       "      <th>2</th>\n",
       "      <td>From: djohnson@cs.ucsd.edu (Darin Johnson)\\nSu...</td>\n",
       "    </tr>\n",
       "    <tr>\n",
       "      <th>3</th>\n",
       "      <td>From: s0612596@let.rug.nl (M.M. Zwart)\\nSubjec...</td>\n",
       "    </tr>\n",
       "    <tr>\n",
       "      <th>4</th>\n",
       "      <td>From: stanly@grok11.columbiasc.ncr.com (stanly...</td>\n",
       "    </tr>\n",
       "  </tbody>\n",
       "</table>\n",
       "</div>"
      ],
      "text/plain": [
       "                                            text_raw\n",
       "0  From: sd345@city.ac.uk (Michael Collier)\\nSubj...\n",
       "1  From: ani@ms.uky.edu (Aniruddha B. Deglurkar)\\...\n",
       "2  From: djohnson@cs.ucsd.edu (Darin Johnson)\\nSu...\n",
       "3  From: s0612596@let.rug.nl (M.M. Zwart)\\nSubjec...\n",
       "4  From: stanly@grok11.columbiasc.ncr.com (stanly..."
      ]
     },
     "execution_count": 6,
     "metadata": {},
     "output_type": "execute_result"
    }
   ],
   "source": [
    "# I first move the training and testing feature matrices into pandas dataframes\n",
    "df_xTrain = pd.DataFrame()\n",
    "df_xTest = pd.DataFrame()\n",
    "\n",
    "df_xTrain['text_raw'] = X_train\n",
    "df_xTest['text_raw'] = X_test\n",
    "df_xTrain.head()"
   ]
  },
  {
   "cell_type": "markdown",
   "metadata": {},
   "source": [
    "Below we apply Stemming or Lemmatizing to each word in every message.<br>\n",
    "These results are added as separate columns within the same test and train dataframes we created earlier."
   ]
  },
  {
   "cell_type": "code",
   "execution_count": 7,
   "metadata": {
    "scrolled": false
   },
   "outputs": [
    {
     "name": "stdout",
     "output_type": "stream",
     "text": [
      "From: ani@ms.uky.edu (Aniruddha B. Deglurkar)\n",
      "Subject: help: Splitting a trimming region along a mesh \n",
      "Organization: University Of Kentucky, Dept. of Math Sciences\n",
      "Lines: 28\n",
      "\n",
      "\n",
      "\n",
      "\tHi,\n",
      "\n",
      "\tI have a problem, I hope some of the 'gurus' can help me solve.\n",
      "\n",
      "\tBackground of the problem:\n",
      "\tI have a rectangular mesh in the uv domain, i.e  the mesh is a \n",
      "\tmapping of a 3d Bezier patch into 2d. The area in this domain\n",
      "\twhich is inside a trimming loop had to be rendered. The trimming\n",
      "\tloop is a set of 2d Bezier curve segments.\n",
      "\tFor the sake of notation: the mesh is made up of cells.\n",
      "\n",
      "\tMy problem is this :\n",
      "\tThe trimming area has to be split up into individual smaller\n",
      "\tcells bounded by the trimming curve segments. If a cell\n",
      "\tis wholly inside the area...then it is output as a whole ,\n",
      "\telse it is trivially rejected. \n",
      "\n",
      "\tDoes any body know how thiss can be done, or is there any algo. \n",
      "\tsomewhere for doing this.\n",
      "\n",
      "\tAny help would be appreciated.\n",
      "\n",
      "\tThanks, \n",
      "\tAni.\n",
      "-- \n",
      "To get irritated is human, to stay cool, divine.\n",
      "\n",
      "\n",
      "Lemmatized Email:\n",
      "\n",
      "From : ani @ ms.uky.edu ( Aniruddha B. Deglurkar ) Subject : help : Splitting a trimming region along a mesh Organization : University Of Kentucky , Dept . of Math Sciences Lines : 28 Hi , I have a problem , I hope some of the 'gurus ' can help me solve . Background of the problem : I have a rectangular mesh in the uv domain , i.e the mesh is a mapping of a 3d Bezier patch into 2d . The area in this domain which is inside a trimming loop had to be rendered . The trimming loop is a set of 2d Bezier curve segment . For the sake of notation : the mesh is made up of cell . My problem is this : The trimming area ha to be split up into individual smaller cell bounded by the trimming curve segment . If a cell is wholly inside the area ... then it is output a a whole , else it is trivially rejected . Does any body know how thiss can be done , or is there any algo . somewhere for doing this . Any help would be appreciated . Thanks , Ani . -- To get irritated is human , to stay cool , divine .\n",
      "\n",
      " Porter Stemmed Email:\n",
      "\n",
      "from : ani @ ms.uky.edu ( aniruddha B. deglurkar ) subject : help : split a trim region along a mesh organ : univers Of kentucki , dept . of math scienc line : 28 Hi , I have a problem , I hope some of the 'guru ' can help me solv . background of the problem : I have a rectangular mesh in the uv domain , i.e the mesh is a map of a 3d bezier patch into 2d . the area in thi domain which is insid a trim loop had to be render . the trim loop is a set of 2d bezier curv segment . for the sake of notat : the mesh is made up of cell . My problem is thi : the trim area ha to be split up into individu smaller cell bound by the trim curv segment . If a cell is wholli insid the area ... then it is output as a whole , els it is trivial reject . doe ani bodi know how thiss can be done , or is there ani algo . somewher for do thi . ani help would be appreci . thank , ani . -- To get irrit is human , to stay cool , divin .\n",
      "\n",
      " Lancaster Stemmed Email:\n",
      "\n",
      "from : an @ ms.uky.edu ( aniruddh b. deglurk ) subject : help : splitting a trim reg along a mesh org : univers of kentucky , dept . of math sci lin : 28 hi , i hav a problem , i hop som of the 'gurus ' can help me solv . background of the problem : i hav a rectangul mesh in the uv domain , i.e the mesh is a map of a 3d bezy patch into 2d . the are in thi domain which is insid a trim loop had to be rend . the trim loop is a set of 2d bezy curv seg . for the sak of not : the mesh is mad up of cel . my problem is thi : the trim are has to be split up into individ smal cel bound by the trim curv seg . if a cel is whol insid the are ... then it is output as a whol , els it is triv reject . doe any body know how thiss can be don , or is ther any algo . somewh for doing thi . any help would be apprecy . thank , an . -- to get irrit is hum , to stay cool , divin .\n"
     ]
    }
   ],
   "source": [
    "# Use a Lemmatizer and see the effect\n",
    "lemmatizer = WordNetLemmatizer()\n",
    "df_xTrain['text_lemmatized'] = df_xTrain['text_raw'].map(lambda text: ' '.join(lemmatizer.lemmatize(w) for w in nltk.word_tokenize(text)))\n",
    "df_xTest['text_lemmatized'] = df_xTest['text_raw'].map(lambda text: ' '.join(lemmatizer.lemmatize(w) for w in nltk.word_tokenize(text)))\n",
    "\n",
    "# Use a Porter Stemmer and see the effect\n",
    "stemmer = PorterStemmer()\n",
    "df_xTrain['text_porter_stemmed'] = df_xTrain['text_raw'].map(lambda text: ' '.join(stemmer.stem(w) for w in nltk.word_tokenize(text)))\n",
    "df_xTest['text_porter_stemmed'] = df_xTest['text_raw'].map(lambda text: ' '.join(stemmer.stem(w) for w in nltk.word_tokenize(text)))\n",
    "\n",
    "# Use a Lancaster Stemmer and see the effect\n",
    "stemmer = LancasterStemmer()\n",
    "df_xTrain['text_lancaster_stemmed'] = df_xTrain['text_raw'].map(lambda text: ' '.join(stemmer.stem(w) for w in nltk.word_tokenize(text)))\n",
    "df_xTest['text_lancaster_stemmed'] = df_xTest['text_raw'].map(lambda text: ' '.join(stemmer.stem(w) for w in nltk.word_tokenize(text)))\n",
    "\n",
    "# Observe a random document to see the effect of each\n",
    "doc_num = 1\n",
    "print(df_xTrain['text_raw'][doc_num])\n",
    "print(\"\\nLemmatized Email:\\n\")\n",
    "print(df_xTrain['text_lemmatized'][doc_num])\n",
    "print(\"\\n Porter Stemmed Email:\\n\")\n",
    "print(df_xTrain['text_porter_stemmed'][doc_num])\n",
    "print(\"\\n Lancaster Stemmed Email:\\n\")\n",
    "print(df_xTrain['text_lancaster_stemmed'][doc_num])"
   ]
  },
  {
   "cell_type": "markdown",
   "metadata": {},
   "source": [
    "We now create the pipeline we will use for performing hyperparameter tuning."
   ]
  },
  {
   "cell_type": "code",
   "execution_count": 8,
   "metadata": {},
   "outputs": [],
   "source": [
    "text_clf_multinomialNB = Pipeline([\n",
    "        ('vect', CountVectorizer()),\n",
    "        ('clf', MultinomialNB()),\n",
    "    ])"
   ]
  },
  {
   "cell_type": "markdown",
   "metadata": {},
   "source": [
    "Define the parameters over which you will perform the hyperparameter optimization."
   ]
  },
  {
   "cell_type": "code",
   "execution_count": 9,
   "metadata": {},
   "outputs": [],
   "source": [
    "param_grid = {\n",
    "    'vect__ngram_range': [(1, 1), (1, 2)],\n",
    "    'vect__stop_words': ['english', None],\n",
    "    'vect__binary': [True, False],\n",
    "    'clf__alpha': [0.1, 1.0, 1.5, 1.8],\n",
    "}"
   ]
  },
  {
   "cell_type": "markdown",
   "metadata": {},
   "source": [
    "Here we define the gridsearch we will be applying below."
   ]
  },
  {
   "cell_type": "code",
   "execution_count": 10,
   "metadata": {},
   "outputs": [],
   "source": [
    "# As using f1 score works only for binary class targets we instead implement f1_micro\n",
    "clf_multinomial_cv = GridSearchCV(text_clf_multinomialNB, param_grid, scoring='f1_micro', cv=5)"
   ]
  },
  {
   "cell_type": "markdown",
   "metadata": {},
   "source": [
    "For below we choose to define our feature matrix depending on no normalizing (raw) or by choosing one of the normalizing approaches.<br>\n",
    "Note once X_train_proc and X_test_proc are defined here they are used below, so uncomment only the normalizing approach (or lack thereof) you want to apply below."
   ]
  },
  {
   "cell_type": "code",
   "execution_count": 11,
   "metadata": {},
   "outputs": [],
   "source": [
    "X_train_proc = df_xTrain['text_raw'] # Use raw data\n",
    "X_test_proc = df_xTest['text_raw'] # Use raw data\n",
    "\n",
    "# X_train_proc = df_xTrain['text_lemmatized'] # Use lemmatized data\n",
    "# X_test_proc = df_xTest['text_lemmatized'] # Use lemmatized data\n",
    "\n",
    "# X_train_proc = df_xTrain['text_porter_stemmed'] # Use porter stemmed data\n",
    "# X_test_proc = df_xTest['text_porter_stemmed'] # Use porter stemmed data\n",
    "\n",
    "# X_train_proc = df_xTrain['text_lancaster_stemmed'] # Use lancaster stemmed data\n",
    "# X_test_proc = df_xTest['text_lancaster_stemmed'] # Use lancaster stemmed data"
   ]
  },
  {
   "cell_type": "markdown",
   "metadata": {},
   "source": [
    "Now apply hyperparameter optimization using the normalization approach chosen above"
   ]
  },
  {
   "cell_type": "code",
   "execution_count": 12,
   "metadata": {},
   "outputs": [
    {
     "name": "stdout",
     "output_type": "stream",
     "text": [
      "\n",
      "Best Score: 0.981391\n",
      "\n",
      "Optimal Hyperparameter Values: \n",
      "clf__alpha: 0.1\n",
      "vect__binary: True\n",
      "vect__ngram_range: (1, 2)\n",
      "vect__stop_words: 'english'\n"
     ]
    }
   ],
   "source": [
    "clf_multinomial_cv = clf_multinomial_cv.fit(X_train_proc, y_train)\n",
    "\n",
    "\n",
    "print(\"\\nBest Score: %f\" % clf_multinomial_cv.best_score_)\n",
    "\n",
    "print(\"\\nOptimal Hyperparameter Values: \")\n",
    "\n",
    "for param_name in sorted(param_grid.keys()):\n",
    "    print(\"%s: %r\" % (param_name, clf_multinomial_cv.best_params_[param_name]))"
   ]
  },
  {
   "cell_type": "markdown",
   "metadata": {},
   "source": [
    "Below I have recorded the optimal parameters found for all normalization approaches tested above<br>\n",
    "Uncomment the parameters corresponding to the normalization approach you have chosen to apply."
   ]
  },
  {
   "cell_type": "code",
   "execution_count": 13,
   "metadata": {},
   "outputs": [],
   "source": [
    "# In this box uncomment the optimal hyperparameters for the lemmatization/stemming performed\n",
    "\n",
    "# Below was done for raw data\n",
    "stop_words_opt = 'english'\n",
    "ngram_range_opt = (1, 2)\n",
    "binary_opt = True\n",
    "clf_alpha_opt = 0.1\n",
    "\n",
    "# Below was done for lemmatized data\n",
    "# stop_words_opt = 'english'\n",
    "# ngram_range_opt = (1, 2)\n",
    "# binary_opt = True\n",
    "# clf_alpha_opt = 0.1\n",
    "\n",
    "# Below was done for Porter Stemmed Data\n",
    "# stop_words_opt = 'english'\n",
    "# ngram_range_opt = (1, 2)\n",
    "# binary_opt = True\n",
    "# clf_alpha_opt = 0.1\n",
    "\n",
    "# Below was done for Lancaster Stemmed Data\n",
    "# stop_words_opt = None\n",
    "# ngram_range_opt = (1, 2)\n",
    "# binary_opt = True\n",
    "# clf_alpha_opt = 0.1"
   ]
  },
  {
   "cell_type": "markdown",
   "metadata": {},
   "source": [
    "I now create the pipeline I will use for evaluating the test data"
   ]
  },
  {
   "cell_type": "code",
   "execution_count": 14,
   "metadata": {},
   "outputs": [],
   "source": [
    "multinomialNB_clf = Pipeline([\n",
    "        ('vect', CountVectorizer(stop_words=stop_words_opt, ngram_range=ngram_range_opt, binary=binary_opt)),\n",
    "        ('clf', MultinomialNB(alpha=clf_alpha_opt)),\n",
    "    ])"
   ]
  },
  {
   "cell_type": "markdown",
   "metadata": {},
   "source": [
    "Now fit the training data to this pipeline, meaning all chosen parameters"
   ]
  },
  {
   "cell_type": "code",
   "execution_count": 15,
   "metadata": {},
   "outputs": [
    {
     "data": {
      "text/plain": [
       "Pipeline(memory=None,\n",
       "     steps=[('vect', CountVectorizer(analyzer='word', binary=True, decode_error='strict',\n",
       "        dtype=<class 'numpy.int64'>, encoding='utf-8', input='content',\n",
       "        lowercase=True, max_df=1.0, max_features=None, min_df=1,\n",
       "        ngram_range=(1, 2), preprocessor=None, stop_words='english',\n",
       "        strip_accents=None, token_pattern='(?u)\\\\b\\\\w\\\\w+\\\\b',\n",
       "        tokenizer=None, vocabulary=None)), ('clf', MultinomialNB(alpha=0.1, class_prior=None, fit_prior=True))])"
      ]
     },
     "execution_count": 15,
     "metadata": {},
     "output_type": "execute_result"
    }
   ],
   "source": [
    "multinomialNB_clf.fit(X_train_proc, y_train)  "
   ]
  },
  {
   "cell_type": "markdown",
   "metadata": {},
   "source": [
    "Now apply this model to the test data and see how effective it is at categorizing messages"
   ]
  },
  {
   "cell_type": "code",
   "execution_count": 16,
   "metadata": {},
   "outputs": [
    {
     "name": "stdout",
     "output_type": "stream",
     "text": [
      "\n",
      "Test Confusion Matrix for Multinomial NB:\n",
      "[[297   3   6  13]\n",
      " [  4 375   9   1]\n",
      " [  5  19 360  12]\n",
      " [  4   2   7 385]]\n",
      "\n",
      "Test Precision for Multinomial NB = 0.943409\n",
      "Test Recall for Multinomial NB = 0.943409\n",
      "Test F1 Score for Multinomial NB = 0.943409\n",
      "\n",
      "Classification Report for Multinomial NB:\n",
      "                            precision    recall  f1-score   support\n",
      "\n",
      "           alt.atheism (0)       0.96      0.93      0.94       319\n",
      "soc.religion.christian (1)       0.94      0.96      0.95       389\n",
      "         comp.graphics (2)       0.94      0.91      0.93       396\n",
      "               sci.med (3)       0.94      0.97      0.95       398\n",
      "\n",
      "                 micro avg       0.94      0.94      0.94      1502\n",
      "                 macro avg       0.94      0.94      0.94      1502\n",
      "              weighted avg       0.94      0.94      0.94      1502\n",
      "\n"
     ]
    }
   ],
   "source": [
    "# Make prediction\n",
    "y_test_predicted = multinomialNB_clf.predict(X_test_proc)\n",
    "\n",
    "print(\"\\nTest Confusion Matrix for Multinomial NB:\")\n",
    "print(confusion_matrix(y_test, y_test_predicted))\n",
    "\n",
    "precision_test = precision_score(y_test, y_test_predicted,average='micro') \n",
    "print(\"\\nTest Precision for Multinomial NB = %f\" % precision_test)\n",
    "\n",
    "recall_test = recall_score(y_test, y_test_predicted,average='micro')\n",
    "print(\"Test Recall for Multinomial NB = %f\" % recall_test)\n",
    "\n",
    "\n",
    "f1_test = f1_score(y_test, y_test_predicted,average='micro')\n",
    "print(\"Test F1 Score for Multinomial NB = %f\" % f1_test)\n",
    "\n",
    "print(\"\\nClassification Report for Multinomial NB:\")\n",
    "print(classification_report(y_test, y_test_predicted, target_names = ['alt.atheism (0)', 'soc.religion.christian (1)','comp.graphics (2)', 'sci.med (3)']))"
   ]
  },
  {
   "cell_type": "markdown",
   "metadata": {},
   "source": [
    "We now test the same model, but now with TFIDF as well.<br>\n",
    "Below is the pipeline used for this"
   ]
  },
  {
   "cell_type": "code",
   "execution_count": 17,
   "metadata": {},
   "outputs": [],
   "source": [
    "text_tfidf_clf_multinomialNB = Pipeline([\n",
    "        ('vect', CountVectorizer()),\n",
    "        ('tfidf', TfidfTransformer()),\n",
    "        ('clf', MultinomialNB()),\n",
    "    ])"
   ]
  },
  {
   "cell_type": "markdown",
   "metadata": {},
   "source": [
    "We now use set up this pipeline with the optimal parameters found above.<br>\n",
    "Note that technically we should apply hyperparameter optimization again, but I have not tested this yet"
   ]
  },
  {
   "cell_type": "code",
   "execution_count": 18,
   "metadata": {},
   "outputs": [],
   "source": [
    "multinomialNB_clf_tfidf = Pipeline([\n",
    "        ('vect', CountVectorizer(stop_words=stop_words_opt, ngram_range=ngram_range_opt, binary=binary_opt)),\n",
    "        ('tfidf', TfidfTransformer()),\n",
    "        ('clf', MultinomialNB(alpha=clf_alpha_opt)),\n",
    "    ])  "
   ]
  },
  {
   "cell_type": "markdown",
   "metadata": {},
   "source": [
    "Now fit this to the training data"
   ]
  },
  {
   "cell_type": "code",
   "execution_count": 19,
   "metadata": {},
   "outputs": [
    {
     "data": {
      "text/plain": [
       "Pipeline(memory=None,\n",
       "     steps=[('vect', CountVectorizer(analyzer='word', binary=True, decode_error='strict',\n",
       "        dtype=<class 'numpy.int64'>, encoding='utf-8', input='content',\n",
       "        lowercase=True, max_df=1.0, max_features=None, min_df=1,\n",
       "        ngram_range=(1, 2), preprocessor=None, stop_words='english',\n",
       "        s...inear_tf=False, use_idf=True)), ('clf', MultinomialNB(alpha=0.1, class_prior=None, fit_prior=True))])"
      ]
     },
     "execution_count": 19,
     "metadata": {},
     "output_type": "execute_result"
    }
   ],
   "source": [
    "multinomialNB_clf_tfidf.fit(X_train_proc, y_train)"
   ]
  },
  {
   "cell_type": "markdown",
   "metadata": {},
   "source": [
    "Now use this model to make predictions on the test data"
   ]
  },
  {
   "cell_type": "code",
   "execution_count": 20,
   "metadata": {},
   "outputs": [
    {
     "name": "stdout",
     "output_type": "stream",
     "text": [
      "\n",
      "Test Confusion Matrix for Multinomial NB With TFIDF:\n",
      "[[276   3  11  29]\n",
      " [  1 372   8   8]\n",
      " [  4  22 353  17]\n",
      " [  4   3   6 385]]\n",
      "\n",
      "Test Precision for Multinomial NB With TFIDF = 0.922770\n",
      "Test Recall for Multinomial NB With TFIDF = 0.922770\n",
      "Test F1 Score for Multinomial NB With TFIDF = 0.922770\n",
      "\n",
      "Classification Report for Multinomial NB With TFIDF:\n",
      "                            precision    recall  f1-score   support\n",
      "\n",
      "           alt.atheism (0)       0.97      0.87      0.91       319\n",
      "soc.religion.christian (1)       0.93      0.96      0.94       389\n",
      "         comp.graphics (2)       0.93      0.89      0.91       396\n",
      "               sci.med (3)       0.88      0.97      0.92       398\n",
      "\n",
      "                 micro avg       0.92      0.92      0.92      1502\n",
      "                 macro avg       0.93      0.92      0.92      1502\n",
      "              weighted avg       0.93      0.92      0.92      1502\n",
      "\n"
     ]
    }
   ],
   "source": [
    "# Make prediction\n",
    "y_test_predicted = multinomialNB_clf_tfidf.predict(X_test_proc)\n",
    "\n",
    "print(\"\\nTest Confusion Matrix for Multinomial NB With TFIDF:\")\n",
    "print(confusion_matrix(y_test, y_test_predicted))\n",
    "\n",
    "precision_test = precision_score(y_test, y_test_predicted,average='micro') \n",
    "print(\"\\nTest Precision for Multinomial NB With TFIDF = %f\" % precision_test)\n",
    "\n",
    "recall_test = recall_score(y_test, y_test_predicted,average='micro')\n",
    "print(\"Test Recall for Multinomial NB With TFIDF = %f\" % recall_test)\n",
    "\n",
    "\n",
    "f1_test = f1_score(y_test, y_test_predicted,average='micro')\n",
    "print(\"Test F1 Score for Multinomial NB With TFIDF = %f\" % f1_test)\n",
    "\n",
    "print(\"\\nClassification Report for Multinomial NB With TFIDF:\")\n",
    "print(classification_report(y_test, y_test_predicted, target_names = ['alt.atheism (0)', 'soc.religion.christian (1)','comp.graphics (2)', 'sci.med (3)']))"
   ]
  },
  {
   "cell_type": "markdown",
   "metadata": {},
   "source": [
    "Note that as we did not perform cross-validation after including TFIDF this could be one possible explanation for the drop in precion and recall."
   ]
  },
  {
   "cell_type": "markdown",
   "metadata": {},
   "source": [
    "We now implement Multivariate Bernoulli Naive Bayes<br>\n",
    "We first build a pipeline using the same optimal parameters found above.<br>\n",
    "Note that technically we should apply hyperparameter optimization again, but I have not tested this yet"
   ]
  },
  {
   "cell_type": "code",
   "execution_count": 21,
   "metadata": {},
   "outputs": [],
   "source": [
    "bernoulliNB_clf = Pipeline([\n",
    "        ('vect', CountVectorizer(stop_words='english', ngram_range=(1, 2), binary=True)),\n",
    "        ('clf', BernoulliNB(alpha=0.1)),\n",
    "    ])"
   ]
  },
  {
   "cell_type": "markdown",
   "metadata": {},
   "source": [
    "Now fit this to the training data"
   ]
  },
  {
   "cell_type": "code",
   "execution_count": 22,
   "metadata": {},
   "outputs": [
    {
     "data": {
      "text/plain": [
       "Pipeline(memory=None,\n",
       "     steps=[('vect', CountVectorizer(analyzer='word', binary=True, decode_error='strict',\n",
       "        dtype=<class 'numpy.int64'>, encoding='utf-8', input='content',\n",
       "        lowercase=True, max_df=1.0, max_features=None, min_df=1,\n",
       "        ngram_range=(1, 2), preprocessor=None, stop_words='english',\n",
       "        strip_accents=None, token_pattern='(?u)\\\\b\\\\w\\\\w+\\\\b',\n",
       "        tokenizer=None, vocabulary=None)), ('clf', BernoulliNB(alpha=0.1, binarize=0.0, class_prior=None, fit_prior=True))])"
      ]
     },
     "execution_count": 22,
     "metadata": {},
     "output_type": "execute_result"
    }
   ],
   "source": [
    "bernoulliNB_clf.fit(X_train, y_train)"
   ]
  },
  {
   "cell_type": "markdown",
   "metadata": {},
   "source": [
    "We now evaluate this Multivariate Bernoulli Naive Bayes model on the test data"
   ]
  },
  {
   "cell_type": "code",
   "execution_count": 23,
   "metadata": {},
   "outputs": [
    {
     "name": "stdout",
     "output_type": "stream",
     "text": [
      "\n",
      "Test Confusion Matrix for Multivariate Bernoulli NB:\n",
      "[[288  18   5   8]\n",
      " [  2 385   2   0]\n",
      " [  3 107 284   2]\n",
      " [  3  36   1 358]]\n",
      "\n",
      "Test Precision for Multivariate Bernoulli NB = 0.875499\n",
      "Test Recall for Multivariate Bernoulli NB = 0.875499\n",
      "Test F1 Score for Multivariate Bernoulli NB = 0.875499\n",
      "\n",
      "Classification Report for Multivariate Bernoulli NB:\n",
      "                            precision    recall  f1-score   support\n",
      "\n",
      "           alt.atheism (0)       0.97      0.90      0.94       319\n",
      "soc.religion.christian (1)       0.71      0.99      0.82       389\n",
      "         comp.graphics (2)       0.97      0.72      0.83       396\n",
      "               sci.med (3)       0.97      0.90      0.93       398\n",
      "\n",
      "                 micro avg       0.88      0.88      0.88      1502\n",
      "                 macro avg       0.91      0.88      0.88      1502\n",
      "              weighted avg       0.90      0.88      0.88      1502\n",
      "\n"
     ]
    }
   ],
   "source": [
    "# Make prediction\n",
    "y_test_predicted = bernoulliNB_clf.predict(X_test_proc)\n",
    "\n",
    "print(\"\\nTest Confusion Matrix for Multivariate Bernoulli NB:\")\n",
    "print(confusion_matrix(y_test, y_test_predicted))\n",
    "\n",
    "precision_test = precision_score(y_test, y_test_predicted,average='micro') \n",
    "print(\"\\nTest Precision for Multivariate Bernoulli NB = %f\" % precision_test)\n",
    "\n",
    "recall_test = recall_score(y_test, y_test_predicted,average='micro')\n",
    "print(\"Test Recall for Multivariate Bernoulli NB = %f\" % recall_test)\n",
    "\n",
    "\n",
    "f1_test = f1_score(y_test, y_test_predicted,average='micro')\n",
    "print(\"Test F1 Score for Multivariate Bernoulli NB = %f\" % f1_test)\n",
    "\n",
    "print(\"\\nClassification Report for Multivariate Bernoulli NB:\")\n",
    "print(classification_report(y_test, y_test_predicted, target_names = ['alt.atheism (0)', 'soc.religion.christian (1)','comp.graphics (2)', 'sci.med (3)']))"
   ]
  },
  {
   "cell_type": "markdown",
   "metadata": {},
   "source": [
    "One issue which I have with the approach taken in this notebook is that we perform cross-validation only on the model which included multinomial Naive-Bayes Classification. We never re-performed cross-validation after including TFIDF as well, or after implimenting the multivariate Bernouli model. This thus could skew some of the results. With that in mind our summary of results are below:\n",
    "\n",
    "\n",
    "Below is a summary of the weighted average for all error metrics using no Lemmatization or Stemming:<br>\n",
    "Multinomial Naive Bayes: Precision=0.94 .  Recall=0.94 .  F1-Score=0.94<br>\n",
    "MultiNomial Naive Bayes with TFIDF: Precision=0.93 .  Recall=0.92 .  F1-Score=0.92<br>\n",
    "Multivariate Bernoulli: Precision=0.90 .  Recall=0.88 .  F1-Score=0.88<br>\n",
    "\n",
    "Below is a summary of the weighted average for all error metrics using Lemmatization:<br>\n",
    "Multinomial Naive Bayes: Precision=0.94 .  Recall=0.94 .  F1-Score=0.94<br>\n",
    "MultiNomial Naive Bayes with TFIDF: Precision=0.93 .  Recall=0.92 .  F1-Score=0.92<br>\n",
    "Multivariate Bernoulli: Precision=0.90 .  Recall=0.87 .  F1-Score=0.87<br>\n",
    "\n",
    "Below is a summary of the weighted average for all error metrics using Porter Stemming:<br>\n",
    "Multinomial Naive Bayes: Precision=0.94 .  Recall=0.94 .  F1-Score=0.94<br>\n",
    "MultiNomial Naive Bayes with TFIDF: Precision=0.92 .  Recall=0.92 .  F1-Score=0.92<br>\n",
    "Multivariate Bernoulli: Precision=0.87 .  Recall=0.80 .  F1-Score=0.81<br>\n",
    "\n",
    "Below is a summary of the weighted average for all error metrics using Lancaster Stemming:<br>\n",
    "Multinomial Naive Bayes: Precision=0.93 .  Recall=0.93 .  F1-Score=0.93<br>\n",
    "MultiNomial Naive Bayes with TFIDF: Precision=0.90 .  Recall=0.90 .  F1-Score=0.90<br>\n",
    "Multivariate Bernoulli: Precision=0.85 .  Recall=0.73 .  F1-Score=0.73<br>\n",
    "\n",
    "\n",
    "From the above results it appears that regardless of the pre-processing (lemitization or stemming) performed that the Multinomial Naive Bayes Classification provides the optimal results. As the Multinomial Naive Bayes Classification with TFIDF performs slightly worse it appears that weighting particular words by frequency actually hurts the predictive ability, at least for categorizing for these categories. That multivariate bernouli performs worst indicates that for categorizing these type of messages the frequency of the words (how often they are used per message) does contain important predictive information.<br>\n",
    "\n",
    "For assessing the impact of Lemmatization and Stemming we tested each separately. Due to lack of time we did not test chained combinations, where for example we could have performed lemmatization and then stemming. Performing each separately showed that, surprisingly, there was not a significant improvement in performing stemming or lemitization. In fact, lemmatization provided no improvement for Multinomial Naive Bayes or Multinomial Naive Bayes with TFIDF but actually decreased the predictive ability for Multivariate Bernoulli. Stemming performed even worse. For both types of stemming assessed these caused a decrease in predictive ability for every Naive Bayes model used. Thus, we conclude that for this classification it is probably best to not utilize lemmatization or stemming.<br>\n",
    "\n",
    "In conlcusion, the above results lead us to recommend the following model for performing this classification. No normalization should be used, and for the classification model we recommend using Multinomial Naive Bayes with the following hyperparameters:<br>\n",
    "stop_words = 'english'<br>\n",
    "ngram_range = (1, 2)<br>\n",
    "binary = True<br>\n",
    "clf_alpha = 0.1<br>"
   ]
  },
  {
   "cell_type": "code",
   "execution_count": null,
   "metadata": {},
   "outputs": [],
   "source": []
  }
 ],
 "metadata": {
  "anaconda-cloud": {},
  "kernelspec": {
   "display_name": "Python 3",
   "language": "python",
   "name": "python3"
  },
  "language_info": {
   "codemirror_mode": {
    "name": "ipython",
    "version": 3
   },
   "file_extension": ".py",
   "mimetype": "text/x-python",
   "name": "python",
   "nbconvert_exporter": "python",
   "pygments_lexer": "ipython3",
   "version": "3.6.8"
  }
 },
 "nbformat": 4,
 "nbformat_minor": 1
}
